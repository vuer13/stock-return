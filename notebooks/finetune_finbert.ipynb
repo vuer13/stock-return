{
 "cells": [
  {
   "cell_type": "code",
   "execution_count": 1,
   "metadata": {},
   "outputs": [
    {
     "name": "stderr",
     "output_type": "stream",
     "text": [
      "/Users/ryanvu/.pyenv/versions/3.10.13/lib/python3.10/site-packages/tqdm/auto.py:21: TqdmWarning: IProgress not found. Please update jupyter and ipywidgets. See https://ipywidgets.readthedocs.io/en/stable/user_install.html\n",
      "  from .autonotebook import tqdm as notebook_tqdm\n"
     ]
    },
    {
     "data": {
      "text/plain": [
       "DatasetDict({\n",
       "    train: Dataset({\n",
       "        features: ['sentence', 'label'],\n",
       "        num_rows: 2264\n",
       "    })\n",
       "})"
      ]
     },
     "execution_count": 1,
     "metadata": {},
     "output_type": "execute_result"
    }
   ],
   "source": [
    "from datasets import load_dataset\n",
    "\n",
    "dataset = load_dataset(\"takala/financial_phrasebank\", \"sentences_allagree\")\n",
    "dataset"
   ]
  },
  {
   "cell_type": "code",
   "execution_count": 2,
   "metadata": {},
   "outputs": [],
   "source": [
    "data = dataset['train'].shuffle(seed = 42)\n",
    "\n",
    "split = data.train_test_split(test_size = 0.3)\n",
    "train_data = split['train'] # training data 70%\n",
    "temp = split['test'] # temporary data to split further\n",
    "\n",
    "test_split = temp.train_test_split(test_size = 0.5)\n",
    "val_data = test_split['train'] # validation data 15%\n",
    "test_data = test_split['test'] # testing data 15%"
   ]
  },
  {
   "cell_type": "code",
   "execution_count": 3,
   "metadata": {},
   "outputs": [
    {
     "name": "stderr",
     "output_type": "stream",
     "text": [
      "/Users/ryanvu/.pyenv/versions/3.10.13/lib/python3.10/site-packages/huggingface_hub/file_download.py:943: FutureWarning: `resume_download` is deprecated and will be removed in version 1.0.0. Downloads always resume when possible. If you want to force a new download, use `force_download=True`.\n",
      "  warnings.warn(\n"
     ]
    }
   ],
   "source": [
    "from transformers import AutoTokenizer, AutoModelForSequenceClassification\n",
    "\n",
    "checkpoint = 'yiyanghkust/finbert-tone'\n",
    "tokenizer = AutoTokenizer.from_pretrained(checkpoint)\n",
    "model = AutoModelForSequenceClassification.from_pretrained(checkpoint)"
   ]
  },
  {
   "cell_type": "code",
   "execution_count": 4,
   "metadata": {},
   "outputs": [
    {
     "name": "stderr",
     "output_type": "stream",
     "text": [
      "Map:   0%|                       | 0/1584 [00:00<?, ? examples/s]Asking to pad to max_length but no maximum length is provided and the model has no predefined maximum length. Default to no padding.\n",
      "Asking to truncate to max_length but no maximum length is provided and the model has no predefined maximum length. Default to no truncation.\n",
      "Map: 100%|██████████| 1584/1584 [00:00<00:00, 6391.81 examples/s]\n",
      "Map: 100%|████████████| 340/340 [00:00<00:00, 5937.30 examples/s]\n",
      "Map: 100%|████████████| 340/340 [00:00<00:00, 6148.84 examples/s]\n"
     ]
    }
   ],
   "source": [
    "# Tokenizing text\n",
    "\n",
    "def preprocess(examples):\n",
    "    return tokenizer(examples[\"sentence\"], padding = \"max_length\", truncation = True)\n",
    "\n",
    "train_tokenized = train_data.map(preprocess, batched = True, batch_size = 32)\n",
    "val_tokenized = val_data.map(preprocess, batched = True, batch_size = 32)\n",
    "test_tokenized = test_data.map(preprocess, batched = True, batch_size = 32)\n",
    "\n",
    "# Set format for PyTorch -> to train with PyTorch\n",
    "\n",
    "train_tokenized.set_format(\"torch\", columns = [\"input_ids\", \"attention_mask\", \"label\"])\n",
    "val_tokenized.set_format(\"torch\", columns = [\"input_ids\", \"attention_mask\", \"label\"])\n",
    "test_tokenized.set_format(\"torch\", columns = [\"input_ids\", \"attention_mask\", \"label\"])"
   ]
  },
  {
   "cell_type": "code",
   "execution_count": 5,
   "metadata": {},
   "outputs": [],
   "source": [
    "from transformers import TrainingArguments, Trainer\n",
    "\n",
    "training_args = TrainingArguments(\n",
    "    output_dir = '../models/finbert_finetuned1',\n",
    "    per_device_train_batch_size = 8,\n",
    "    per_device_eval_batch_size = 8,\n",
    "    num_train_epochs = 5,\n",
    "    evaluation_strategy = 'epoch',\n",
    "    save_strategy = 'epoch',\n",
    "    logging_dir = '../logs',\n",
    "    load_best_model_at_end = True\n",
    ")"
   ]
  },
  {
   "cell_type": "code",
   "execution_count": null,
   "metadata": {},
   "outputs": [],
   "source": []
  }
 ],
 "metadata": {
  "kernelspec": {
   "display_name": "Python (FinBERT Global)",
   "language": "python",
   "name": "finbert-global"
  },
  "language_info": {
   "codemirror_mode": {
    "name": "ipython",
    "version": 3
   },
   "file_extension": ".py",
   "mimetype": "text/x-python",
   "name": "python",
   "nbconvert_exporter": "python",
   "pygments_lexer": "ipython3",
   "version": "3.10.13"
  }
 },
 "nbformat": 4,
 "nbformat_minor": 4
}
