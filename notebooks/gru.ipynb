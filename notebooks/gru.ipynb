{
 "cells": [
  {
   "cell_type": "code",
   "execution_count": 22,
   "metadata": {},
   "outputs": [],
   "source": [
    "import pandas as pd\n",
    "import numpy as np"
   ]
  },
  {
   "cell_type": "code",
   "execution_count": 23,
   "metadata": {},
   "outputs": [
    {
     "data": {
      "text/html": [
       "<div>\n",
       "<style scoped>\n",
       "    .dataframe tbody tr th:only-of-type {\n",
       "        vertical-align: middle;\n",
       "    }\n",
       "\n",
       "    .dataframe tbody tr th {\n",
       "        vertical-align: top;\n",
       "    }\n",
       "\n",
       "    .dataframe thead th {\n",
       "        text-align: right;\n",
       "    }\n",
       "</style>\n",
       "<table border=\"1\" class=\"dataframe\">\n",
       "  <thead>\n",
       "    <tr style=\"text-align: right;\">\n",
       "      <th></th>\n",
       "      <th>ticker</th>\n",
       "      <th>date</th>\n",
       "      <th>text</th>\n",
       "      <th>positive</th>\n",
       "      <th>neutral</th>\n",
       "      <th>negative</th>\n",
       "      <th>price</th>\n",
       "      <th>volume</th>\n",
       "      <th>volatility_10d</th>\n",
       "      <th>volatility_30d</th>\n",
       "      <th>return_1d</th>\n",
       "      <th>return_2d</th>\n",
       "      <th>return_3d</th>\n",
       "      <th>ticker_encoded</th>\n",
       "      <th>price_volatility_ratio</th>\n",
       "      <th>volume_volatility_ratio</th>\n",
       "      <th>volatility_diff</th>\n",
       "      <th>day_of_week</th>\n",
       "    </tr>\n",
       "  </thead>\n",
       "  <tbody>\n",
       "    <tr>\n",
       "      <th>0</th>\n",
       "      <td>21CF</td>\n",
       "      <td>2017-01-31</td>\n",
       "      <td>['RT @21CF: 21CF internal memo from Executive ...</td>\n",
       "      <td>0.000167</td>\n",
       "      <td>0.999619</td>\n",
       "      <td>0.000214</td>\n",
       "      <td>31.38</td>\n",
       "      <td>5170587.0</td>\n",
       "      <td>16.864</td>\n",
       "      <td>14.768</td>\n",
       "      <td>-0.031867</td>\n",
       "      <td>-0.286807</td>\n",
       "      <td>-0.002868</td>\n",
       "      <td>0</td>\n",
       "      <td>2.124865</td>\n",
       "      <td>350121.004875</td>\n",
       "      <td>2.096</td>\n",
       "      <td>1</td>\n",
       "    </tr>\n",
       "    <tr>\n",
       "      <th>1</th>\n",
       "      <td>21CF</td>\n",
       "      <td>2017-04-29</td>\n",
       "      <td>['RT @21CF: Read what @Gotham star @ben_mckenz...</td>\n",
       "      <td>0.000117</td>\n",
       "      <td>0.999737</td>\n",
       "      <td>0.000147</td>\n",
       "      <td>30.54</td>\n",
       "      <td>6681951.0</td>\n",
       "      <td>17.751</td>\n",
       "      <td>16.189</td>\n",
       "      <td>0.000000</td>\n",
       "      <td>0.065488</td>\n",
       "      <td>0.006549</td>\n",
       "      <td>0</td>\n",
       "      <td>1.886466</td>\n",
       "      <td>412746.370993</td>\n",
       "      <td>1.562</td>\n",
       "      <td>5</td>\n",
       "    </tr>\n",
       "    <tr>\n",
       "      <th>2</th>\n",
       "      <td>ASOS</td>\n",
       "      <td>2017-01-31</td>\n",
       "      <td>['RT @n76seary: RT @StudentBunker: #FreebieFri...</td>\n",
       "      <td>0.000176</td>\n",
       "      <td>0.999649</td>\n",
       "      <td>0.000175</td>\n",
       "      <td>5266.00</td>\n",
       "      <td>342823.0</td>\n",
       "      <td>32.807</td>\n",
       "      <td>28.367</td>\n",
       "      <td>-1.253323</td>\n",
       "      <td>0.835549</td>\n",
       "      <td>0.008355</td>\n",
       "      <td>1</td>\n",
       "      <td>185.638242</td>\n",
       "      <td>12085.275144</td>\n",
       "      <td>4.440</td>\n",
       "      <td>1</td>\n",
       "    </tr>\n",
       "    <tr>\n",
       "      <th>3</th>\n",
       "      <td>ASOS</td>\n",
       "      <td>2017-02-01</td>\n",
       "      <td>['ASOS SALON Pretty Floral Soft Midi with Embe...</td>\n",
       "      <td>0.000231</td>\n",
       "      <td>0.999595</td>\n",
       "      <td>0.000175</td>\n",
       "      <td>5267.00</td>\n",
       "      <td>301346.0</td>\n",
       "      <td>26.819</td>\n",
       "      <td>28.350</td>\n",
       "      <td>-0.018986</td>\n",
       "      <td>-1.272071</td>\n",
       "      <td>0.008164</td>\n",
       "      <td>1</td>\n",
       "      <td>185.784832</td>\n",
       "      <td>10629.488536</td>\n",
       "      <td>-1.531</td>\n",
       "      <td>2</td>\n",
       "    </tr>\n",
       "    <tr>\n",
       "      <th>4</th>\n",
       "      <td>ASOS</td>\n",
       "      <td>2017-02-28</td>\n",
       "      <td>['GUADALUPE PASS AMOS,TX (GDP) ASOS reports gu...</td>\n",
       "      <td>0.222588</td>\n",
       "      <td>0.626411</td>\n",
       "      <td>0.151001</td>\n",
       "      <td>5432.00</td>\n",
       "      <td>608408.0</td>\n",
       "      <td>10.720</td>\n",
       "      <td>21.310</td>\n",
       "      <td>-0.257732</td>\n",
       "      <td>-1.896171</td>\n",
       "      <td>-0.018962</td>\n",
       "      <td>1</td>\n",
       "      <td>254.903801</td>\n",
       "      <td>28550.351947</td>\n",
       "      <td>-10.590</td>\n",
       "      <td>1</td>\n",
       "    </tr>\n",
       "  </tbody>\n",
       "</table>\n",
       "</div>"
      ],
      "text/plain": [
       "  ticker        date                                               text  \\\n",
       "0   21CF  2017-01-31  ['RT @21CF: 21CF internal memo from Executive ...   \n",
       "1   21CF  2017-04-29  ['RT @21CF: Read what @Gotham star @ben_mckenz...   \n",
       "2   ASOS  2017-01-31  ['RT @n76seary: RT @StudentBunker: #FreebieFri...   \n",
       "3   ASOS  2017-02-01  ['ASOS SALON Pretty Floral Soft Midi with Embe...   \n",
       "4   ASOS  2017-02-28  ['GUADALUPE PASS AMOS,TX (GDP) ASOS reports gu...   \n",
       "\n",
       "   positive   neutral  negative    price     volume  volatility_10d  \\\n",
       "0  0.000167  0.999619  0.000214    31.38  5170587.0          16.864   \n",
       "1  0.000117  0.999737  0.000147    30.54  6681951.0          17.751   \n",
       "2  0.000176  0.999649  0.000175  5266.00   342823.0          32.807   \n",
       "3  0.000231  0.999595  0.000175  5267.00   301346.0          26.819   \n",
       "4  0.222588  0.626411  0.151001  5432.00   608408.0          10.720   \n",
       "\n",
       "   volatility_30d  return_1d  return_2d  return_3d  ticker_encoded  \\\n",
       "0          14.768  -0.031867  -0.286807  -0.002868               0   \n",
       "1          16.189   0.000000   0.065488   0.006549               0   \n",
       "2          28.367  -1.253323   0.835549   0.008355               1   \n",
       "3          28.350  -0.018986  -1.272071   0.008164               1   \n",
       "4          21.310  -0.257732  -1.896171  -0.018962               1   \n",
       "\n",
       "   price_volatility_ratio  volume_volatility_ratio  volatility_diff  \\\n",
       "0                2.124865            350121.004875            2.096   \n",
       "1                1.886466            412746.370993            1.562   \n",
       "2              185.638242             12085.275144            4.440   \n",
       "3              185.784832             10629.488536           -1.531   \n",
       "4              254.903801             28550.351947          -10.590   \n",
       "\n",
       "   day_of_week  \n",
       "0            1  \n",
       "1            5  \n",
       "2            1  \n",
       "3            2  \n",
       "4            1  "
      ]
     },
     "execution_count": 23,
     "metadata": {},
     "output_type": "execute_result"
    }
   ],
   "source": [
    "df = pd.read_csv(\"../data/full_sentiment_dataset_cleaned.csv\")\n",
    "df.head()"
   ]
  },
  {
   "cell_type": "code",
   "execution_count": 63,
   "metadata": {},
   "outputs": [],
   "source": [
    "seq = []\n",
    "\n",
    "for _, group in df.groupby('ticker'):\n",
    "    group = group.reset_index(drop = True)\n",
    "    for i in range(len(group)):\n",
    "        required_cols = ['positive', 'neutral', 'negative', 'price', 'volume', 'volatility_10d', 'volatility_30d']\n",
    "        if not set(required_cols).issubset(group.columns):\n",
    "            continue\n",
    "    \n",
    "        sentiment = group.loc[i, ['positive', 'negative', 'neutral']].values\n",
    "        ticker_id = group.loc[i, 'ticker_encoded']\n",
    "        market_data = group.loc[i, ['price', 'volume', 'volatility_10d', 'volatility_30d', \"price_volatility_ratio\", \"volume_volatility_ratio\",\t\"volatility_diff\", \"day_of_week\"]].values\n",
    "        \n",
    "        if pd.isnull(sentiment).any() or pd.isnull(market_data).any():\n",
    "            continue\n",
    "\n",
    "        final_features = np.concatenate([sentiment, [ticker_id], market_data])\n",
    "        \n",
    "        if i + 1 < len(group):\n",
    "            target = group.loc[i + 1, ['return_1d']].values\n",
    "            if not np.any(pd.isnull(target)):\n",
    "                seq.append((final_features, target))"
   ]
  },
  {
   "cell_type": "code",
   "execution_count": 64,
   "metadata": {},
   "outputs": [],
   "source": [
    "X = np.array([x[0] for x in seq], dtype=np.float32)\n",
    "y = np.array([x[1] for x in seq], dtype=np.float32)\n"
   ]
  },
  {
   "cell_type": "code",
   "execution_count": 65,
   "metadata": {},
   "outputs": [],
   "source": [
    "from sklearn.model_selection import train_test_split\n",
    "from sklearn.preprocessing import StandardScaler"
   ]
  },
  {
   "cell_type": "code",
   "execution_count": 66,
   "metadata": {},
   "outputs": [],
   "source": [
    "X_train, X_test, y_train, y_test = train_test_split(X, y, test_size=0.25, random_state=42)"
   ]
  },
  {
   "cell_type": "code",
   "execution_count": 67,
   "metadata": {},
   "outputs": [],
   "source": [
    "X_scale = StandardScaler()\n",
    "y_scale = StandardScaler()\n",
    "\n",
    "X_train_scale = X_scale.fit_transform(X_train)\n",
    "X_test_scale = X_scale.transform(X_test)\n",
    "\n",
    "y_train_scale = y_scale.fit_transform(y_train)\n",
    "y_test_scale = y_scale.transform(y_test)"
   ]
  },
  {
   "cell_type": "code",
   "execution_count": 68,
   "metadata": {},
   "outputs": [],
   "source": [
    "import torch\n",
    "from torch.utils.data import Dataset, DataLoader"
   ]
  },
  {
   "cell_type": "code",
   "execution_count": 69,
   "metadata": {},
   "outputs": [],
   "source": [
    "class SentimentDataset(Dataset):\n",
    "    def __init__(self, X, y):\n",
    "        self.X = torch.tensor(X, dtype=torch.float32).unsqueeze(1)\n",
    "        self.y = torch.tensor(y, dtype=torch.float32)\n",
    "        \n",
    "    def __len__(self):\n",
    "        return len(self.X)\n",
    "    \n",
    "    def __getitem__(self, id):\n",
    "        return self.X[id], self.y[id]"
   ]
  },
  {
   "cell_type": "code",
   "execution_count": 70,
   "metadata": {},
   "outputs": [],
   "source": [
    "train_dataset = SentimentDataset(X_train_scale, y_train_scale)\n",
    "test_dataset = SentimentDataset(X_test_scale, y_test_scale)\n",
    "\n",
    "train_loader = DataLoader(train_dataset, batch_size=32, shuffle=True)\n",
    "test_loader = DataLoader(test_dataset, batch_size=32, shuffle=False)"
   ]
  },
  {
   "cell_type": "code",
   "execution_count": 71,
   "metadata": {},
   "outputs": [],
   "source": [
    "import torch.nn as nn"
   ]
  },
  {
   "cell_type": "code",
   "execution_count": 72,
   "metadata": {},
   "outputs": [],
   "source": [
    "class GRU(nn.Module):\n",
    "    def __init__(self, input = 12, hidden = 64, num_layers = 1, output = 1, dropout = 0.2):\n",
    "        super(GRU, self).__init__()\n",
    "        self.gru = nn.GRU(input, hidden, num_layers, batch_first=True, dropout=dropout if num_layers > 1 else 0)\n",
    "        self.fc = nn.Linear(hidden, output)\n",
    "        \n",
    "    def forward(self, x):\n",
    "        _, hn = self.gru(x)\n",
    "        out = self.fc(hn[-1])\n",
    "        return out"
   ]
  },
  {
   "cell_type": "code",
   "execution_count": 73,
   "metadata": {},
   "outputs": [],
   "source": [
    "from itertools import product"
   ]
  },
  {
   "cell_type": "code",
   "execution_count": 74,
   "metadata": {},
   "outputs": [],
   "source": [
    "param_grid = {\n",
    "    'hidden_size': [64, 32],\n",
    "    'num_layers': [1, 2, 3],\n",
    "    'lr': [0.001],\n",
    "    'dropout': [0.0, 0.3]\n",
    "}\n",
    "\n",
    "param_combos = list(product(*param_grid.values()))"
   ]
  },
  {
   "cell_type": "code",
   "execution_count": 75,
   "metadata": {},
   "outputs": [],
   "source": [
    "from sklearn.metrics import r2_score\n",
    "import gc"
   ]
  },
  {
   "cell_type": "code",
   "execution_count": 77,
   "metadata": {},
   "outputs": [
    {
     "name": "stdout",
     "output_type": "stream",
     "text": [
      "Trying: hidden=64, layers=1, lr=0.001, dropout=0.0\n",
      "→ R²: -0.0024\n",
      "Trying: hidden=64, layers=1, lr=0.001, dropout=0.3\n",
      "→ R²: -0.0016\n",
      "Trying: hidden=64, layers=2, lr=0.001, dropout=0.0\n",
      "→ R²: -0.0019\n",
      "Trying: hidden=64, layers=2, lr=0.001, dropout=0.3\n",
      "→ R²: -0.0011\n",
      "Trying: hidden=64, layers=3, lr=0.001, dropout=0.0\n",
      "→ R²: -0.0132\n",
      "Trying: hidden=64, layers=3, lr=0.001, dropout=0.3\n",
      "→ R²: -0.0025\n",
      "Trying: hidden=32, layers=1, lr=0.001, dropout=0.0\n",
      "→ R²: -0.0026\n",
      "Trying: hidden=32, layers=1, lr=0.001, dropout=0.3\n",
      "→ R²: -0.0028\n",
      "Trying: hidden=32, layers=2, lr=0.001, dropout=0.0\n",
      "→ R²: -0.0027\n",
      "Trying: hidden=32, layers=2, lr=0.001, dropout=0.3\n",
      "→ R²: 0.0004\n",
      "Trying: hidden=32, layers=3, lr=0.001, dropout=0.0\n",
      "→ R²: -0.0047\n",
      "Trying: hidden=32, layers=3, lr=0.001, dropout=0.3\n",
      "→ R²: -0.0006\n"
     ]
    }
   ],
   "source": [
    "device = torch.device(\"cuda\" if torch.cuda.is_available() else \"cpu\")\n",
    "best_model = None\n",
    "best_score = float('-inf')\n",
    "\n",
    "for hidden_size, num_layers, lr, dropout in param_combos:\n",
    "    print(f\"Trying: hidden={hidden_size}, layers={num_layers}, lr={lr}, dropout={dropout}\")\n",
    "    model = GRU(input = 12, hidden=hidden_size, num_layers=num_layers, dropout=dropout).to(device)\n",
    "    optimizer = torch.optim.Adam(model.parameters(), lr=lr)\n",
    "    loss_fn = nn.MSELoss()\n",
    "    \n",
    "    for epoch in range(30):\n",
    "        model.train()\n",
    "        for X_batch, y_batch in train_loader:\n",
    "            X_batch, y_batch = X_batch.to(device), y_batch.to(device)\n",
    "            optimizer.zero_grad()\n",
    "            pred = model(X_batch)\n",
    "            loss = loss_fn(pred, y_batch)\n",
    "            loss.backward()\n",
    "            optimizer.step()\n",
    "            \n",
    "    model.eval()\n",
    "    preds, target = [], []\n",
    "    with torch.no_grad():\n",
    "        for X_batch, y_batch in test_loader:\n",
    "            X_batch = X_batch.to(device)\n",
    "            pred = model(X_batch).cpu().numpy()\n",
    "            preds.extend(pred)\n",
    "            target.extend(y_batch.numpy())\n",
    "            \n",
    "    preds = np.array(preds)\n",
    "    target = np.array(target)\n",
    "    preds_orig = y_scale.inverse_transform(preds)\n",
    "    targets_orig = y_scale.inverse_transform(target)\n",
    "    \n",
    "    r2 = r2_score(target, preds)\n",
    "    print(f\"→ R²: {r2:.4f}\")\n",
    "    if r2 > best_score:\n",
    "        best_score = r2\n",
    "        best_model = model\n",
    "    del model\n",
    "    gc.collect()\n",
    "    torch.cuda.empty_cache()"
   ]
  },
  {
   "cell_type": "code",
   "execution_count": 78,
   "metadata": {},
   "outputs": [
    {
     "name": "stdout",
     "output_type": "stream",
     "text": [
      "R² (orig): -0.0005710124969482422\n"
     ]
    }
   ],
   "source": [
    "preds = np.array(preds)\n",
    "target = np.array(target)\n",
    "\n",
    "preds_orig = y_scale.inverse_transform(preds)\n",
    "targets_orig = y_scale.inverse_transform(target)\n",
    "\n",
    "print(\"R² (orig):\", r2_score(targets_orig, preds_orig))"
   ]
  },
  {
   "cell_type": "code",
   "execution_count": null,
   "metadata": {},
   "outputs": [],
   "source": []
  }
 ],
 "metadata": {
  "kernelspec": {
   "display_name": "Python (FinBERT Global)",
   "language": "python",
   "name": "finbert-global"
  },
  "language_info": {
   "codemirror_mode": {
    "name": "ipython",
    "version": 3
   },
   "file_extension": ".py",
   "mimetype": "text/x-python",
   "name": "python",
   "nbconvert_exporter": "python",
   "pygments_lexer": "ipython3",
   "version": "3.10.13"
  }
 },
 "nbformat": 4,
 "nbformat_minor": 2
}
