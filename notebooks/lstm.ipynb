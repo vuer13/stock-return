{
 "cells": [
  {
   "cell_type": "code",
   "execution_count": 2,
   "metadata": {},
   "outputs": [],
   "source": [
    "import pandas as pd"
   ]
  },
  {
   "cell_type": "code",
   "execution_count": 14,
   "metadata": {},
   "outputs": [
    {
     "data": {
      "text/html": [
       "<div>\n",
       "<style scoped>\n",
       "    .dataframe tbody tr th:only-of-type {\n",
       "        vertical-align: middle;\n",
       "    }\n",
       "\n",
       "    .dataframe tbody tr th {\n",
       "        vertical-align: top;\n",
       "    }\n",
       "\n",
       "    .dataframe thead th {\n",
       "        text-align: right;\n",
       "    }\n",
       "</style>\n",
       "<table border=\"1\" class=\"dataframe\">\n",
       "  <thead>\n",
       "    <tr style=\"text-align: right;\">\n",
       "      <th></th>\n",
       "      <th>date</th>\n",
       "      <th>ticker</th>\n",
       "      <th>positive</th>\n",
       "      <th>neutral</th>\n",
       "      <th>negative</th>\n",
       "      <th>return_1d</th>\n",
       "      <th>return_2d</th>\n",
       "      <th>return_3d</th>\n",
       "      <th>ticker_encoded</th>\n",
       "    </tr>\n",
       "  </thead>\n",
       "  <tbody>\n",
       "    <tr>\n",
       "      <th>0</th>\n",
       "      <td>2017-01-31</td>\n",
       "      <td>21CF</td>\n",
       "      <td>0.000167</td>\n",
       "      <td>0.999619</td>\n",
       "      <td>0.000214</td>\n",
       "      <td>-0.000319</td>\n",
       "      <td>-0.002868</td>\n",
       "      <td>-0.002868</td>\n",
       "      <td>0</td>\n",
       "    </tr>\n",
       "    <tr>\n",
       "      <th>1</th>\n",
       "      <td>2017-02-01</td>\n",
       "      <td>21CF</td>\n",
       "      <td>0.000000</td>\n",
       "      <td>0.000000</td>\n",
       "      <td>0.000000</td>\n",
       "      <td>NaN</td>\n",
       "      <td>NaN</td>\n",
       "      <td>NaN</td>\n",
       "      <td>0</td>\n",
       "    </tr>\n",
       "    <tr>\n",
       "      <th>2</th>\n",
       "      <td>2017-02-02</td>\n",
       "      <td>21CF</td>\n",
       "      <td>0.000000</td>\n",
       "      <td>0.000000</td>\n",
       "      <td>0.000000</td>\n",
       "      <td>NaN</td>\n",
       "      <td>NaN</td>\n",
       "      <td>NaN</td>\n",
       "      <td>0</td>\n",
       "    </tr>\n",
       "    <tr>\n",
       "      <th>3</th>\n",
       "      <td>2017-02-03</td>\n",
       "      <td>21CF</td>\n",
       "      <td>0.000000</td>\n",
       "      <td>0.000000</td>\n",
       "      <td>0.000000</td>\n",
       "      <td>NaN</td>\n",
       "      <td>NaN</td>\n",
       "      <td>NaN</td>\n",
       "      <td>0</td>\n",
       "    </tr>\n",
       "    <tr>\n",
       "      <th>4</th>\n",
       "      <td>2017-02-04</td>\n",
       "      <td>21CF</td>\n",
       "      <td>0.000000</td>\n",
       "      <td>0.000000</td>\n",
       "      <td>0.000000</td>\n",
       "      <td>NaN</td>\n",
       "      <td>NaN</td>\n",
       "      <td>NaN</td>\n",
       "      <td>0</td>\n",
       "    </tr>\n",
       "  </tbody>\n",
       "</table>\n",
       "</div>"
      ],
      "text/plain": [
       "         date ticker  positive   neutral  negative  return_1d  return_2d  \\\n",
       "0  2017-01-31   21CF  0.000167  0.999619  0.000214  -0.000319  -0.002868   \n",
       "1  2017-02-01   21CF  0.000000  0.000000  0.000000        NaN        NaN   \n",
       "2  2017-02-02   21CF  0.000000  0.000000  0.000000        NaN        NaN   \n",
       "3  2017-02-03   21CF  0.000000  0.000000  0.000000        NaN        NaN   \n",
       "4  2017-02-04   21CF  0.000000  0.000000  0.000000        NaN        NaN   \n",
       "\n",
       "   return_3d  ticker_encoded  \n",
       "0  -0.002868               0  \n",
       "1        NaN               0  \n",
       "2        NaN               0  \n",
       "3        NaN               0  \n",
       "4        NaN               0  "
      ]
     },
     "execution_count": 14,
     "metadata": {},
     "output_type": "execute_result"
    }
   ],
   "source": [
    "df = pd.read_csv(\"../data/full_sentiment_dataset_cleaned.csv\")\n",
    "df.head()"
   ]
  },
  {
   "cell_type": "code",
   "execution_count": 4,
   "metadata": {},
   "outputs": [],
   "source": [
    "import numpy as np"
   ]
  },
  {
   "cell_type": "code",
   "execution_count": 63,
   "metadata": {},
   "outputs": [],
   "source": [
    "window = 3\n",
    "seq = []\n",
    "\n",
    "for _, group in df.groupby('ticker'):\n",
    "    group = group.reset_index(drop=True)\n",
    "    for i in range(len(group)):\n",
    "        end = min(i + window, len(group))\n",
    "        sentiment = group.loc[i:end - 1, ['positive', 'neutral', 'negative']].values \n",
    "        \n",
    "        if len(sentiment) < window:\n",
    "            pad = window - len(sentiment)\n",
    "            fill = np.zeros((pad, 3))\n",
    "            sentiment = np.vstack((sentiment, fill))\n",
    "            \n",
    "        ticker_id = group.loc[i, 'ticker_encoded']\n",
    "        ticker_feature = np.full((window, 1), ticker_id)\n",
    "        features = np.hstack([sentiment, ticker_feature])\n",
    "            \n",
    "        if end < len(group):\n",
    "            target = group.loc[end, ['return_1d', 'return_2d']].values\n",
    "            \n",
    "            if not np.any(pd.isnull(target)) and not np.all(features == 0) and not np.all(target == 0):\n",
    "                seq.append((features, target))"
   ]
  },
  {
   "cell_type": "code",
   "execution_count": 64,
   "metadata": {},
   "outputs": [],
   "source": [
    "X = np.array([x[0] for x in seq], dtype = np.float32)\n",
    "y = np.array([x[1] for x in seq], dtype = np.float32)"
   ]
  },
  {
   "cell_type": "code",
   "execution_count": 65,
   "metadata": {},
   "outputs": [],
   "source": [
    "from sklearn.model_selection import train_test_split\n",
    "import torch\n",
    "from torch.utils.data import Dataset, DataLoader"
   ]
  },
  {
   "cell_type": "code",
   "execution_count": 66,
   "metadata": {},
   "outputs": [],
   "source": [
    "X_train, X_val, y_train, y_val = train_test_split(X, y, test_size=0.25, random_state=42)"
   ]
  },
  {
   "cell_type": "code",
   "execution_count": 67,
   "metadata": {},
   "outputs": [],
   "source": [
    "class SentimentDataset(Dataset):\n",
    "    def __init__(self, X, y):\n",
    "        self.X = torch.tensor(X, dtype=torch.float32)\n",
    "        self.y = torch.tensor(y, dtype=torch.float32)\n",
    "        \n",
    "    def __len__(self):\n",
    "        return len(self.X)\n",
    "    \n",
    "    def __getitem__(self, id):\n",
    "        return self.X[id], self.y[id]"
   ]
  },
  {
   "cell_type": "code",
   "execution_count": 68,
   "metadata": {},
   "outputs": [],
   "source": [
    "train_dataset = SentimentDataset(X_train, y_train)\n",
    "test_dataset = SentimentDataset(X_val, y_val)\n",
    "\n",
    "train_loader = DataLoader(train_dataset, batch_size=64, shuffle=True)\n",
    "test_loader = DataLoader(test_dataset, batch_size=64, shuffle=False)"
   ]
  },
  {
   "cell_type": "code",
   "execution_count": 69,
   "metadata": {},
   "outputs": [],
   "source": [
    "import torch.nn as nn"
   ]
  },
  {
   "cell_type": "code",
   "execution_count": 70,
   "metadata": {},
   "outputs": [],
   "source": [
    "class LSTM(nn.Module):\n",
    "    \"\"\"\n",
    "    input_size: number of features (positive, negative, neutral, ticker_id)\n",
    "    hidden_size: features in the hidden state\n",
    "    num_layers: number of stacked LSTM layers\n",
    "    \"\"\"\n",
    "    def __init__(self, input_size = 4, hidden_size = 128, num_layers = 2, output_size = 2, dropout = 0.3):\n",
    "        super(LSTM, self).__init__()\n",
    "        self.lstm = nn.LSTM(input_size = input_size,\n",
    "                            hidden_size = hidden_size,\n",
    "                            num_layers = num_layers,\n",
    "                            batch_first = True,\n",
    "                            dropout = dropout if num_layers > 1 else 0)\n",
    "        self.fc = nn.Linear(hidden_size, output_size)\n",
    "        \n",
    "    def forward(self, x):\n",
    "        _, (hn, _) = self.lstm(x)\n",
    "        out = self.fc(hn[-1]) \n",
    "        return out"
   ]
  },
  {
   "cell_type": "code",
   "execution_count": 71,
   "metadata": {},
   "outputs": [],
   "source": [
    "from itertools import product\n",
    "\n",
    "param_grid = {\n",
    "    'hidden_size': [32, 64],\n",
    "    'num_layers': [1, 2],\n",
    "    'lr': [0.001, 0.0005],\n",
    "    'dropout': [0.0, 0.3]\n",
    "}\n",
    "\n",
    "param_combos = list(product(*param_grid.values()))"
   ]
  },
  {
   "cell_type": "code",
   "execution_count": 74,
   "metadata": {},
   "outputs": [
    {
     "name": "stdout",
     "output_type": "stream",
     "text": [
      "Trying combo: hidden=32, layers=1, lr=0.001, dropout=0.0\n",
      "→ R2 Score: -0.0839\n",
      "Trying combo: hidden=32, layers=1, lr=0.001, dropout=0.3\n",
      "→ R2 Score: -0.0507\n",
      "Trying combo: hidden=32, layers=1, lr=0.0005, dropout=0.0\n",
      "→ R2 Score: -0.0395\n",
      "Trying combo: hidden=32, layers=1, lr=0.0005, dropout=0.3\n",
      "→ R2 Score: -0.0656\n",
      "Trying combo: hidden=32, layers=2, lr=0.001, dropout=0.0\n",
      "→ R2 Score: -0.0130\n",
      "Trying combo: hidden=32, layers=2, lr=0.001, dropout=0.3\n",
      "→ R2 Score: -0.1131\n",
      "Trying combo: hidden=32, layers=2, lr=0.0005, dropout=0.0\n",
      "→ R2 Score: -0.0121\n",
      "Trying combo: hidden=32, layers=2, lr=0.0005, dropout=0.3\n",
      "→ R2 Score: -0.0901\n",
      "Trying combo: hidden=64, layers=1, lr=0.001, dropout=0.0\n",
      "→ R2 Score: -0.0361\n",
      "Trying combo: hidden=64, layers=1, lr=0.001, dropout=0.3\n",
      "→ R2 Score: -0.0503\n",
      "Trying combo: hidden=64, layers=1, lr=0.0005, dropout=0.0\n",
      "→ R2 Score: -0.0419\n",
      "Trying combo: hidden=64, layers=1, lr=0.0005, dropout=0.3\n",
      "→ R2 Score: -0.0293\n",
      "Trying combo: hidden=64, layers=2, lr=0.001, dropout=0.0\n",
      "→ R2 Score: -0.0094\n",
      "Trying combo: hidden=64, layers=2, lr=0.001, dropout=0.3\n",
      "→ R2 Score: -0.0088\n",
      "Trying combo: hidden=64, layers=2, lr=0.0005, dropout=0.0\n",
      "→ R2 Score: -0.0448\n",
      "Trying combo: hidden=64, layers=2, lr=0.0005, dropout=0.3\n",
      "→ R2 Score: -0.0220\n"
     ]
    }
   ],
   "source": [
    "device = torch.device('cuda' if torch.cuda.is_available() else 'cpu')\n",
    "\n",
    "best_model = None\n",
    "best_score = float('-inf')\n",
    "\n",
    "for combo in param_combos:\n",
    "    hidden_size, num_layers, lr, dropout = combo\n",
    "    print(f\"Trying combo: hidden={hidden_size}, layers={num_layers}, lr={lr}, dropout={dropout}\")\n",
    "    \n",
    "    model = LSTM(input_size=4, hidden_size=hidden_size, num_layers=num_layers,\n",
    "                      output_size=2, dropout=dropout).to(device)\n",
    "    optimizer = torch.optim.Adam(model.parameters(), lr = lr)\n",
    "    loss_fn = nn.MSELoss()\n",
    "    \n",
    "    for epoch in range(10):\n",
    "        model.train()\n",
    "    \n",
    "        for X_batch, y_batch in train_loader:\n",
    "            X_batch, y_batch = X_batch.to(device), y_batch.to(device)\n",
    "        \n",
    "            optimizer.zero_grad()\n",
    "            output = model(X_batch)\n",
    "            loss = loss_fn(output, y_batch)\n",
    "            loss.backward()\n",
    "            optimizer.step()\n",
    "            \n",
    "    model.eval()\n",
    "    all_preds, all_targets = [], []\n",
    "\n",
    "    with torch.no_grad():\n",
    "        for X_batch, y_batch in test_loader:\n",
    "            X_batch = X_batch.to(device)\n",
    "            preds = model(X_batch).cpu().numpy()\n",
    "            all_preds.extend(preds)\n",
    "            all_targets.extend(y_batch.numpy())\n",
    "            \n",
    "    r2 = r2_score(all_targets, all_preds)\n",
    "    print(f\"→ R2 Score: {r2:.4f}\")\n",
    "    \n",
    "    if r2 > best_score:\n",
    "        best_score = r2\n",
    "        best_model = model\n",
    "        "
   ]
  },
  {
   "cell_type": "code",
   "execution_count": 75,
   "metadata": {},
   "outputs": [
    {
     "name": "stdout",
     "output_type": "stream",
     "text": [
      "-0.008847231126532962\n"
     ]
    }
   ],
   "source": [
    "print(best_score)"
   ]
  }
 ],
 "metadata": {
  "kernelspec": {
   "display_name": "Python (FinBERT Global)",
   "language": "python",
   "name": "finbert-global"
  },
  "language_info": {
   "codemirror_mode": {
    "name": "ipython",
    "version": 3
   },
   "file_extension": ".py",
   "mimetype": "text/x-python",
   "name": "python",
   "nbconvert_exporter": "python",
   "pygments_lexer": "ipython3",
   "version": "3.10.13"
  }
 },
 "nbformat": 4,
 "nbformat_minor": 2
}
