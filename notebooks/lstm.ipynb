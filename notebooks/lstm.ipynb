{
 "cells": [
  {
   "cell_type": "code",
   "execution_count": 2,
   "metadata": {},
   "outputs": [],
   "source": [
    "import pandas as pd"
   ]
  },
  {
   "cell_type": "code",
   "execution_count": 14,
   "metadata": {},
   "outputs": [
    {
     "data": {
      "text/html": [
       "<div>\n",
       "<style scoped>\n",
       "    .dataframe tbody tr th:only-of-type {\n",
       "        vertical-align: middle;\n",
       "    }\n",
       "\n",
       "    .dataframe tbody tr th {\n",
       "        vertical-align: top;\n",
       "    }\n",
       "\n",
       "    .dataframe thead th {\n",
       "        text-align: right;\n",
       "    }\n",
       "</style>\n",
       "<table border=\"1\" class=\"dataframe\">\n",
       "  <thead>\n",
       "    <tr style=\"text-align: right;\">\n",
       "      <th></th>\n",
       "      <th>date</th>\n",
       "      <th>ticker</th>\n",
       "      <th>positive</th>\n",
       "      <th>neutral</th>\n",
       "      <th>negative</th>\n",
       "      <th>return_1d</th>\n",
       "      <th>return_2d</th>\n",
       "      <th>return_3d</th>\n",
       "      <th>ticker_encoded</th>\n",
       "    </tr>\n",
       "  </thead>\n",
       "  <tbody>\n",
       "    <tr>\n",
       "      <th>0</th>\n",
       "      <td>2017-01-31</td>\n",
       "      <td>21CF</td>\n",
       "      <td>0.000167</td>\n",
       "      <td>0.999619</td>\n",
       "      <td>0.000214</td>\n",
       "      <td>-0.000319</td>\n",
       "      <td>-0.002868</td>\n",
       "      <td>-0.002868</td>\n",
       "      <td>0</td>\n",
       "    </tr>\n",
       "    <tr>\n",
       "      <th>1</th>\n",
       "      <td>2017-02-01</td>\n",
       "      <td>21CF</td>\n",
       "      <td>0.000000</td>\n",
       "      <td>0.000000</td>\n",
       "      <td>0.000000</td>\n",
       "      <td>NaN</td>\n",
       "      <td>NaN</td>\n",
       "      <td>NaN</td>\n",
       "      <td>0</td>\n",
       "    </tr>\n",
       "    <tr>\n",
       "      <th>2</th>\n",
       "      <td>2017-02-02</td>\n",
       "      <td>21CF</td>\n",
       "      <td>0.000000</td>\n",
       "      <td>0.000000</td>\n",
       "      <td>0.000000</td>\n",
       "      <td>NaN</td>\n",
       "      <td>NaN</td>\n",
       "      <td>NaN</td>\n",
       "      <td>0</td>\n",
       "    </tr>\n",
       "    <tr>\n",
       "      <th>3</th>\n",
       "      <td>2017-02-03</td>\n",
       "      <td>21CF</td>\n",
       "      <td>0.000000</td>\n",
       "      <td>0.000000</td>\n",
       "      <td>0.000000</td>\n",
       "      <td>NaN</td>\n",
       "      <td>NaN</td>\n",
       "      <td>NaN</td>\n",
       "      <td>0</td>\n",
       "    </tr>\n",
       "    <tr>\n",
       "      <th>4</th>\n",
       "      <td>2017-02-04</td>\n",
       "      <td>21CF</td>\n",
       "      <td>0.000000</td>\n",
       "      <td>0.000000</td>\n",
       "      <td>0.000000</td>\n",
       "      <td>NaN</td>\n",
       "      <td>NaN</td>\n",
       "      <td>NaN</td>\n",
       "      <td>0</td>\n",
       "    </tr>\n",
       "  </tbody>\n",
       "</table>\n",
       "</div>"
      ],
      "text/plain": [
       "         date ticker  positive   neutral  negative  return_1d  return_2d  \\\n",
       "0  2017-01-31   21CF  0.000167  0.999619  0.000214  -0.000319  -0.002868   \n",
       "1  2017-02-01   21CF  0.000000  0.000000  0.000000        NaN        NaN   \n",
       "2  2017-02-02   21CF  0.000000  0.000000  0.000000        NaN        NaN   \n",
       "3  2017-02-03   21CF  0.000000  0.000000  0.000000        NaN        NaN   \n",
       "4  2017-02-04   21CF  0.000000  0.000000  0.000000        NaN        NaN   \n",
       "\n",
       "   return_3d  ticker_encoded  \n",
       "0  -0.002868               0  \n",
       "1        NaN               0  \n",
       "2        NaN               0  \n",
       "3        NaN               0  \n",
       "4        NaN               0  "
      ]
     },
     "execution_count": 14,
     "metadata": {},
     "output_type": "execute_result"
    }
   ],
   "source": [
    "df = pd.read_csv(\"../data/full_sentiment_dataset_cleaned.csv\")\n",
    "df.head()"
   ]
  },
  {
   "cell_type": "code",
   "execution_count": 4,
   "metadata": {},
   "outputs": [],
   "source": [
    "import numpy as np"
   ]
  },
  {
   "cell_type": "code",
   "execution_count": 19,
   "metadata": {},
   "outputs": [],
   "source": [
    "window = 3\n",
    "seq = []\n",
    "\n",
    "for _, group in df.groupby('ticker'):\n",
    "    group = group.reset_index(drop=True)\n",
    "    for i in range(len(group)):\n",
    "        end = min(i + window, len(group))\n",
    "        sentiment = group.loc[i:end - 1, ['positive', 'neutral', 'negative']].values \n",
    "        \n",
    "        if len(sentiment) < window:\n",
    "            pad = window - len(sentiment)\n",
    "            fill = np.zeros((pad, 3))\n",
    "            sentiment = np.vstack((sentiment, fill))\n",
    "            \n",
    "        ticker_id = group.loc[i, 'ticker_encoded']\n",
    "        ticker_feature = np.full((window, 1), ticker_id)\n",
    "        features = np.hstack([sentiment, ticker_feature])\n",
    "            \n",
    "        if end < len(group):\n",
    "            target = group.loc[end, ['return_1d', 'return_2d', 'return_3d']].values\n",
    "            \n",
    "            if not np.any(pd.isnull(target)) and not np.all(features == 0) and not np.all(target == 0):\n",
    "                seq.append((features, target))"
   ]
  },
  {
   "cell_type": "code",
   "execution_count": 20,
   "metadata": {},
   "outputs": [],
   "source": [
    "X = np.array([x[0] for x in seq], dtype = np.float32)\n",
    "y = np.array([x[1] for x in seq], dtype = np.float32)"
   ]
  },
  {
   "cell_type": "code",
   "execution_count": 21,
   "metadata": {},
   "outputs": [],
   "source": [
    "from sklearn.model_selection import train_test_split\n",
    "import torch\n",
    "from torch.utils.data import Dataset, DataLoader"
   ]
  },
  {
   "cell_type": "code",
   "execution_count": 22,
   "metadata": {},
   "outputs": [],
   "source": [
    "X_train, X_val, y_train, y_val = train_test_split(X, y, test_size=0.25, random_state=42)"
   ]
  },
  {
   "cell_type": "code",
   "execution_count": null,
   "metadata": {},
   "outputs": [],
   "source": []
  }
 ],
 "metadata": {
  "kernelspec": {
   "display_name": "Python (FinBERT Global)",
   "language": "python",
   "name": "finbert-global"
  },
  "language_info": {
   "codemirror_mode": {
    "name": "ipython",
    "version": 3
   },
   "file_extension": ".py",
   "mimetype": "text/x-python",
   "name": "python",
   "nbconvert_exporter": "python",
   "pygments_lexer": "ipython3",
   "version": "3.10.13"
  }
 },
 "nbformat": 4,
 "nbformat_minor": 2
}
